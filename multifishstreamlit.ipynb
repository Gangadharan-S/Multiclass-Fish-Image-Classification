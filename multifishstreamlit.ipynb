{
  "nbformat": 4,
  "nbformat_minor": 0,
  "metadata": {
    "colab": {
      "provenance": [],
      "mount_file_id": "1ljxzGuR3UpqTzvyQfQLzgaD5idX4Eknd",
      "authorship_tag": "ABX9TyM8tlpvWM1l25XPqbkDy5yb",
      "include_colab_link": true
    },
    "kernelspec": {
      "name": "python3",
      "display_name": "Python 3"
    },
    "language_info": {
      "name": "python"
    }
  },
  "cells": [
    {
      "cell_type": "markdown",
      "metadata": {
        "id": "view-in-github",
        "colab_type": "text"
      },
      "source": [
        "<a href=\"https://colab.research.google.com/github/Gangadharan-S/Multiclass-Fish-Image-Classification/blob/main/multifishstreamlit.ipynb\" target=\"_parent\"><img src=\"https://colab.research.google.com/assets/colab-badge.svg\" alt=\"Open In Colab\"/></a>"
      ]
    },
    {
      "cell_type": "code",
      "execution_count": 24,
      "metadata": {
        "id": "lhjHqbEXncsr"
      },
      "outputs": [],
      "source": [
        "!pip install -q streamlit pyngrok tensorflow pillow pandas"
      ]
    },
    {
      "cell_type": "code",
      "source": [
        "%%writefile app.py\n",
        "import streamlit as st\n",
        "import numpy as np\n",
        "import tensorflow as tf\n",
        "from tensorflow.keras.models import load_model\n",
        "from PIL import Image\n",
        "import pandas as pd\n",
        "\n",
        "@st.cache_resource\n",
        "def load_best_model():\n",
        "    model_path = \"/content/drive/MyDrive/Project/best_fish_model.h5\"\n",
        "    return load_model(model_path)\n",
        "\n",
        "best_model = load_best_model()\n",
        "\n",
        "class_names = [\n",
        "    \"Fish\", \"Fish Bass\", \"Black Sea Spart\", \"Gilt Heard Bream\", \"Horse Mackerel\",\n",
        "    \"Red Mullet\", \"Red Sea Bream\", \"Sea Bass\", \"Shrimp\", \"Striped Red Mullet\", \"Trout\"\n",
        "]\n",
        "\n",
        "def preprocess_image(image):\n",
        "    image = image.convert(\"RGB\")\n",
        "    image = image.resize((224, 224))\n",
        "    image = np.array(image) / 255.0\n",
        "    image = np.expand_dims(image, axis=0)\n",
        "    return image\n",
        "\n",
        "st.title(\"🐠 Fish Classification App\")\n",
        "st.write(\"Upload images of fish, and the model will predict their types!\")\n",
        "\n",
        "st.sidebar.header(\"⚙ Settings\")\n",
        "confidence_threshold = st.sidebar.slider(\"Confidence Threshold (%)\", 0, 100, 50, 5)\n",
        "\n",
        "uploaded_files = st.file_uploader(\"📷 Choose images...\", type=[\"jpg\", \"jpeg\", \"png\"], accept_multiple_files=True)\n",
        "\n",
        "if uploaded_files:\n",
        "    for uploaded_file in uploaded_files:\n",
        "        st.divider()\n",
        "        st.subheader(f\"📷 Image: {uploaded_file.name}\")\n",
        "        image = Image.open(uploaded_file)\n",
        "        st.image(image, caption=\"📸 Uploaded Image\", use_container_width=True)\n",
        "        processed_image = preprocess_image(image)\n",
        "\n",
        "        with st.spinner(\"🔍 Classifying...\"):\n",
        "            prediction = best_model.predict(processed_image)\n",
        "            predicted_class = class_names[np.argmax(prediction)]\n",
        "            confidence = np.max(prediction) * 100\n",
        "\n",
        "        if confidence >= confidence_threshold:\n",
        "            st.success(f\"🎯 *Prediction: {predicted_class}*\")\n",
        "            st.write(f\"🔵 *Confidence:* {confidence:.2f}%\")\n",
        "        else:\n",
        "            st.warning(\"⚠ Prediction confidence is too low. Try uploading a clearer image.\")\n",
        "\n",
        "        st.subheader(\"📊 Class Probabilities\")\n",
        "        prob_dict = {class_names[i]: f\"{pred*100:.2f}%\" for i, pred in enumerate(prediction[0])}\n",
        "        st.json(prob_dict)\n",
        "\n",
        "        prob_df = pd.DataFrame({\"Class\": class_names, \"Confidence (%)\": prediction[0] * 100})\n",
        "        prob_df = prob_df.sort_values(by=\"Confidence (%)\", ascending=False)\n",
        "        st.bar_chart(prob_df.set_index(\"Class\"))\n"
      ],
      "metadata": {
        "colab": {
          "base_uri": "https://localhost:8080/"
        },
        "id": "mY5mc1qCsOUK",
        "outputId": "a5d5a492-bdc9-45a0-f89b-5500134d2044"
      },
      "execution_count": 25,
      "outputs": [
        {
          "output_type": "stream",
          "name": "stdout",
          "text": [
            "Overwriting app.py\n"
          ]
        }
      ]
    },
    {
      "cell_type": "code",
      "source": [
        "from pyngrok import conf, ngrok\n",
        "\n",
        "conf.get_default().auth_token = \"2zSwv7MhadWyFUgXnQINzLgNLQk_6ALkEGghZTMkRNFwyDKNW\"\n",
        "\n",
        "# Step 2: Kill previous tunnels\n",
        "ngrok.kill()\n",
        "\n",
        "public_url = ngrok.connect(\"http://localhost:8501\", proto=\"http\")\n",
        "print(f\"🌍 Your Streamlit app is live at: {public_url}\")\n",
        "\n",
        "\n",
        "# Step 4: Start the Streamlit app\n",
        "!streamlit run app.py --server.port 8501 --server.enableCORS false\n"
      ],
      "metadata": {
        "colab": {
          "base_uri": "https://localhost:8080/"
        },
        "id": "sVfKumnIvi09",
        "outputId": "9b8734c7-5024-444c-da42-3a01108f8779"
      },
      "execution_count": 27,
      "outputs": [
        {
          "output_type": "stream",
          "name": "stdout",
          "text": [
            "🌍 Your Streamlit app is live at: NgrokTunnel: \"https://576d-34-91-97-84.ngrok-free.app\" -> \"http://localhost:8501\"\n",
            "2025-07-05 18:09:50.307 \n",
            "Warning: the config option 'server.enableCORS=false' is not compatible with\n",
            "'server.enableXsrfProtection=true'.\n",
            "As a result, 'server.enableCORS' is being overridden to 'true'.\n",
            "\n",
            "More information:\n",
            "In order to protect against CSRF attacks, we send a cookie with each request.\n",
            "To do so, we must specify allowable origins, which places a restriction on\n",
            "cross-origin resource sharing.\n",
            "\n",
            "If cross origin resource sharing is required, please disable server.enableXsrfProtection.\n",
            "            \n",
            "\n",
            "Collecting usage statistics. To deactivate, set browser.gatherUsageStats to false.\n",
            "\u001b[0m\n",
            "\u001b[0m\n",
            "\u001b[34m\u001b[1m  You can now view your Streamlit app in your browser.\u001b[0m\n",
            "\u001b[0m\n",
            "\u001b[34m  Local URL: \u001b[0m\u001b[1mhttp://localhost:8501\u001b[0m\n",
            "\u001b[34m  Network URL: \u001b[0m\u001b[1mhttp://172.28.0.12:8501\u001b[0m\n",
            "\u001b[34m  External URL: \u001b[0m\u001b[1mhttp://34.91.97.84:8501\u001b[0m\n",
            "\u001b[0m\n",
            "2025-07-05 18:11:51.115098: E external/local_xla/xla/stream_executor/cuda/cuda_fft.cc:477] Unable to register cuFFT factory: Attempting to register factory for plugin cuFFT when one has already been registered\n",
            "WARNING: All log messages before absl::InitializeLog() is called are written to STDERR\n",
            "E0000 00:00:1751739111.143215   17260 cuda_dnn.cc:8310] Unable to register cuDNN factory: Attempting to register factory for plugin cuDNN when one has already been registered\n",
            "E0000 00:00:1751739111.151550   17260 cuda_blas.cc:1418] Unable to register cuBLAS factory: Attempting to register factory for plugin cuBLAS when one has already been registered\n",
            "2025-07-05 18:11:51.180942: I tensorflow/core/platform/cpu_feature_guard.cc:210] This TensorFlow binary is optimized to use available CPU instructions in performance-critical operations.\n",
            "To enable the following instructions: AVX2 FMA, in other operations, rebuild TensorFlow with the appropriate compiler flags.\n",
            "2025-07-05 18:11:58.404208: E external/local_xla/xla/stream_executor/cuda/cuda_driver.cc:152] failed call to cuInit: INTERNAL: CUDA error: Failed call to cuInit: UNKNOWN ERROR (303)\n",
            "WARNING:absl:Compiled the loaded model, but the compiled metrics have yet to be built. `model.compile_metrics` will be empty until you train or evaluate the model.\n",
            "\u001b[1m1/1\u001b[0m \u001b[32m━━━━━━━━━━━━━━━━━━━━\u001b[0m\u001b[37m\u001b[0m \u001b[1m0s\u001b[0m 267ms/step\n",
            "\u001b[34m  Stopping...\u001b[0m\n",
            "\u001b[34m  Stopping...\u001b[0m\n"
          ]
        }
      ]
    }
  ]
}